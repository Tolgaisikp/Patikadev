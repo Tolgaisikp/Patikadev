{
  "nbformat": 4,
  "nbformat_minor": 0,
  "metadata": {
    "colab": {
      "name": "datascience101project.ipynb",
      "provenance": [],
      "collapsed_sections": []
    },
    "kernelspec": {
      "name": "python3",
      "display_name": "Python 3"
    },
    "language_info": {
      "name": "python"
    }
  },
  "cells": [
    {
      "cell_type": "code",
      "execution_count": 107,
      "metadata": {
        "id": "Mnb4yhKj0BDk"
      },
      "outputs": [],
      "source": [
        "import math\n",
        "import numpy as np \n",
        "import pandas as pd \n",
        "import matplotlib.pyplot as plt\n",
        "import seaborn as sns\n",
        "from sklearn.model_selection import train_test_split\n",
        "from sklearn.ensemble import RandomForestRegressor\n",
        "from pandas.core.dtypes.common import is_string_dtype, is_numeric_dtype"
      ]
    },
    {
      "cell_type": "markdown",
      "source": [
        "# 1. Kullanacağınız veriyi indirip, okumak"
      ],
      "metadata": {
        "id": "K-hvT88m1hxC"
      }
    },
    {
      "cell_type": "code",
      "source": [
        "df = pd.read_csv('Stars.csv')\n",
        "df_copy = df.copy()\n",
        "df_copy.head()"
      ],
      "metadata": {
        "colab": {
          "base_uri": "https://localhost:8080/",
          "height": 206
        },
        "id": "F_IZ0h4x1C9y",
        "outputId": "476fde86-ba05-48af-fc59-ce08b5d3f954"
      },
      "execution_count": 108,
      "outputs": [
        {
          "output_type": "execute_result",
          "data": {
            "text/plain": [
              "   Temperature         L       R    A_M Color Spectral_Class  Type\n",
              "0         3068  0.002400  0.1700  16.12   Red              M     0\n",
              "1         3042  0.000500  0.1542  16.60   Red              M     0\n",
              "2         2600  0.000300  0.1020  18.70   Red              M     0\n",
              "3         2800  0.000200  0.1600  16.65   Red              M     0\n",
              "4         1939  0.000138  0.1030  20.06   Red              M     0"
            ],
            "text/html": [
              "\n",
              "  <div id=\"df-c0caa42f-9c47-4421-945e-1bbb546e461e\">\n",
              "    <div class=\"colab-df-container\">\n",
              "      <div>\n",
              "<style scoped>\n",
              "    .dataframe tbody tr th:only-of-type {\n",
              "        vertical-align: middle;\n",
              "    }\n",
              "\n",
              "    .dataframe tbody tr th {\n",
              "        vertical-align: top;\n",
              "    }\n",
              "\n",
              "    .dataframe thead th {\n",
              "        text-align: right;\n",
              "    }\n",
              "</style>\n",
              "<table border=\"1\" class=\"dataframe\">\n",
              "  <thead>\n",
              "    <tr style=\"text-align: right;\">\n",
              "      <th></th>\n",
              "      <th>Temperature</th>\n",
              "      <th>L</th>\n",
              "      <th>R</th>\n",
              "      <th>A_M</th>\n",
              "      <th>Color</th>\n",
              "      <th>Spectral_Class</th>\n",
              "      <th>Type</th>\n",
              "    </tr>\n",
              "  </thead>\n",
              "  <tbody>\n",
              "    <tr>\n",
              "      <th>0</th>\n",
              "      <td>3068</td>\n",
              "      <td>0.002400</td>\n",
              "      <td>0.1700</td>\n",
              "      <td>16.12</td>\n",
              "      <td>Red</td>\n",
              "      <td>M</td>\n",
              "      <td>0</td>\n",
              "    </tr>\n",
              "    <tr>\n",
              "      <th>1</th>\n",
              "      <td>3042</td>\n",
              "      <td>0.000500</td>\n",
              "      <td>0.1542</td>\n",
              "      <td>16.60</td>\n",
              "      <td>Red</td>\n",
              "      <td>M</td>\n",
              "      <td>0</td>\n",
              "    </tr>\n",
              "    <tr>\n",
              "      <th>2</th>\n",
              "      <td>2600</td>\n",
              "      <td>0.000300</td>\n",
              "      <td>0.1020</td>\n",
              "      <td>18.70</td>\n",
              "      <td>Red</td>\n",
              "      <td>M</td>\n",
              "      <td>0</td>\n",
              "    </tr>\n",
              "    <tr>\n",
              "      <th>3</th>\n",
              "      <td>2800</td>\n",
              "      <td>0.000200</td>\n",
              "      <td>0.1600</td>\n",
              "      <td>16.65</td>\n",
              "      <td>Red</td>\n",
              "      <td>M</td>\n",
              "      <td>0</td>\n",
              "    </tr>\n",
              "    <tr>\n",
              "      <th>4</th>\n",
              "      <td>1939</td>\n",
              "      <td>0.000138</td>\n",
              "      <td>0.1030</td>\n",
              "      <td>20.06</td>\n",
              "      <td>Red</td>\n",
              "      <td>M</td>\n",
              "      <td>0</td>\n",
              "    </tr>\n",
              "  </tbody>\n",
              "</table>\n",
              "</div>\n",
              "      <button class=\"colab-df-convert\" onclick=\"convertToInteractive('df-c0caa42f-9c47-4421-945e-1bbb546e461e')\"\n",
              "              title=\"Convert this dataframe to an interactive table.\"\n",
              "              style=\"display:none;\">\n",
              "        \n",
              "  <svg xmlns=\"http://www.w3.org/2000/svg\" height=\"24px\"viewBox=\"0 0 24 24\"\n",
              "       width=\"24px\">\n",
              "    <path d=\"M0 0h24v24H0V0z\" fill=\"none\"/>\n",
              "    <path d=\"M18.56 5.44l.94 2.06.94-2.06 2.06-.94-2.06-.94-.94-2.06-.94 2.06-2.06.94zm-11 1L8.5 8.5l.94-2.06 2.06-.94-2.06-.94L8.5 2.5l-.94 2.06-2.06.94zm10 10l.94 2.06.94-2.06 2.06-.94-2.06-.94-.94-2.06-.94 2.06-2.06.94z\"/><path d=\"M17.41 7.96l-1.37-1.37c-.4-.4-.92-.59-1.43-.59-.52 0-1.04.2-1.43.59L10.3 9.45l-7.72 7.72c-.78.78-.78 2.05 0 2.83L4 21.41c.39.39.9.59 1.41.59.51 0 1.02-.2 1.41-.59l7.78-7.78 2.81-2.81c.8-.78.8-2.07 0-2.86zM5.41 20L4 18.59l7.72-7.72 1.47 1.35L5.41 20z\"/>\n",
              "  </svg>\n",
              "      </button>\n",
              "      \n",
              "  <style>\n",
              "    .colab-df-container {\n",
              "      display:flex;\n",
              "      flex-wrap:wrap;\n",
              "      gap: 12px;\n",
              "    }\n",
              "\n",
              "    .colab-df-convert {\n",
              "      background-color: #E8F0FE;\n",
              "      border: none;\n",
              "      border-radius: 50%;\n",
              "      cursor: pointer;\n",
              "      display: none;\n",
              "      fill: #1967D2;\n",
              "      height: 32px;\n",
              "      padding: 0 0 0 0;\n",
              "      width: 32px;\n",
              "    }\n",
              "\n",
              "    .colab-df-convert:hover {\n",
              "      background-color: #E2EBFA;\n",
              "      box-shadow: 0px 1px 2px rgba(60, 64, 67, 0.3), 0px 1px 3px 1px rgba(60, 64, 67, 0.15);\n",
              "      fill: #174EA6;\n",
              "    }\n",
              "\n",
              "    [theme=dark] .colab-df-convert {\n",
              "      background-color: #3B4455;\n",
              "      fill: #D2E3FC;\n",
              "    }\n",
              "\n",
              "    [theme=dark] .colab-df-convert:hover {\n",
              "      background-color: #434B5C;\n",
              "      box-shadow: 0px 1px 3px 1px rgba(0, 0, 0, 0.15);\n",
              "      filter: drop-shadow(0px 1px 2px rgba(0, 0, 0, 0.3));\n",
              "      fill: #FFFFFF;\n",
              "    }\n",
              "  </style>\n",
              "\n",
              "      <script>\n",
              "        const buttonEl =\n",
              "          document.querySelector('#df-c0caa42f-9c47-4421-945e-1bbb546e461e button.colab-df-convert');\n",
              "        buttonEl.style.display =\n",
              "          google.colab.kernel.accessAllowed ? 'block' : 'none';\n",
              "\n",
              "        async function convertToInteractive(key) {\n",
              "          const element = document.querySelector('#df-c0caa42f-9c47-4421-945e-1bbb546e461e');\n",
              "          const dataTable =\n",
              "            await google.colab.kernel.invokeFunction('convertToInteractive',\n",
              "                                                     [key], {});\n",
              "          if (!dataTable) return;\n",
              "\n",
              "          const docLinkHtml = 'Like what you see? Visit the ' +\n",
              "            '<a target=\"_blank\" href=https://colab.research.google.com/notebooks/data_table.ipynb>data table notebook</a>'\n",
              "            + ' to learn more about interactive tables.';\n",
              "          element.innerHTML = '';\n",
              "          dataTable['output_type'] = 'display_data';\n",
              "          await google.colab.output.renderOutput(dataTable, element);\n",
              "          const docLink = document.createElement('div');\n",
              "          docLink.innerHTML = docLinkHtml;\n",
              "          element.appendChild(docLink);\n",
              "        }\n",
              "      </script>\n",
              "    </div>\n",
              "  </div>\n",
              "  "
            ]
          },
          "metadata": {},
          "execution_count": 108
        }
      ]
    },
    {
      "cell_type": "code",
      "source": [
        "df_copy.describe()"
      ],
      "metadata": {
        "colab": {
          "base_uri": "https://localhost:8080/",
          "height": 300
        },
        "id": "n_ovLno016p-",
        "outputId": "09c7fc5e-737e-4a57-ee98-0f6d8c90853a"
      },
      "execution_count": 109,
      "outputs": [
        {
          "output_type": "execute_result",
          "data": {
            "text/plain": [
              "        Temperature              L            R         A_M        Type\n",
              "count    240.000000     240.000000   240.000000  240.000000  240.000000\n",
              "mean   10497.462500  107188.361635   237.157781    4.382396    2.500000\n",
              "std     9552.425037  179432.244940   517.155763   10.532512    1.711394\n",
              "min     1939.000000       0.000080     0.008400  -11.920000    0.000000\n",
              "25%     3344.250000       0.000865     0.102750   -6.232500    1.000000\n",
              "50%     5776.000000       0.070500     0.762500    8.313000    2.500000\n",
              "75%    15055.500000  198050.000000    42.750000   13.697500    4.000000\n",
              "max    40000.000000  849420.000000  1948.500000   20.060000    5.000000"
            ],
            "text/html": [
              "\n",
              "  <div id=\"df-04364a57-1aca-462d-bb13-4198ea5b2ddb\">\n",
              "    <div class=\"colab-df-container\">\n",
              "      <div>\n",
              "<style scoped>\n",
              "    .dataframe tbody tr th:only-of-type {\n",
              "        vertical-align: middle;\n",
              "    }\n",
              "\n",
              "    .dataframe tbody tr th {\n",
              "        vertical-align: top;\n",
              "    }\n",
              "\n",
              "    .dataframe thead th {\n",
              "        text-align: right;\n",
              "    }\n",
              "</style>\n",
              "<table border=\"1\" class=\"dataframe\">\n",
              "  <thead>\n",
              "    <tr style=\"text-align: right;\">\n",
              "      <th></th>\n",
              "      <th>Temperature</th>\n",
              "      <th>L</th>\n",
              "      <th>R</th>\n",
              "      <th>A_M</th>\n",
              "      <th>Type</th>\n",
              "    </tr>\n",
              "  </thead>\n",
              "  <tbody>\n",
              "    <tr>\n",
              "      <th>count</th>\n",
              "      <td>240.000000</td>\n",
              "      <td>240.000000</td>\n",
              "      <td>240.000000</td>\n",
              "      <td>240.000000</td>\n",
              "      <td>240.000000</td>\n",
              "    </tr>\n",
              "    <tr>\n",
              "      <th>mean</th>\n",
              "      <td>10497.462500</td>\n",
              "      <td>107188.361635</td>\n",
              "      <td>237.157781</td>\n",
              "      <td>4.382396</td>\n",
              "      <td>2.500000</td>\n",
              "    </tr>\n",
              "    <tr>\n",
              "      <th>std</th>\n",
              "      <td>9552.425037</td>\n",
              "      <td>179432.244940</td>\n",
              "      <td>517.155763</td>\n",
              "      <td>10.532512</td>\n",
              "      <td>1.711394</td>\n",
              "    </tr>\n",
              "    <tr>\n",
              "      <th>min</th>\n",
              "      <td>1939.000000</td>\n",
              "      <td>0.000080</td>\n",
              "      <td>0.008400</td>\n",
              "      <td>-11.920000</td>\n",
              "      <td>0.000000</td>\n",
              "    </tr>\n",
              "    <tr>\n",
              "      <th>25%</th>\n",
              "      <td>3344.250000</td>\n",
              "      <td>0.000865</td>\n",
              "      <td>0.102750</td>\n",
              "      <td>-6.232500</td>\n",
              "      <td>1.000000</td>\n",
              "    </tr>\n",
              "    <tr>\n",
              "      <th>50%</th>\n",
              "      <td>5776.000000</td>\n",
              "      <td>0.070500</td>\n",
              "      <td>0.762500</td>\n",
              "      <td>8.313000</td>\n",
              "      <td>2.500000</td>\n",
              "    </tr>\n",
              "    <tr>\n",
              "      <th>75%</th>\n",
              "      <td>15055.500000</td>\n",
              "      <td>198050.000000</td>\n",
              "      <td>42.750000</td>\n",
              "      <td>13.697500</td>\n",
              "      <td>4.000000</td>\n",
              "    </tr>\n",
              "    <tr>\n",
              "      <th>max</th>\n",
              "      <td>40000.000000</td>\n",
              "      <td>849420.000000</td>\n",
              "      <td>1948.500000</td>\n",
              "      <td>20.060000</td>\n",
              "      <td>5.000000</td>\n",
              "    </tr>\n",
              "  </tbody>\n",
              "</table>\n",
              "</div>\n",
              "      <button class=\"colab-df-convert\" onclick=\"convertToInteractive('df-04364a57-1aca-462d-bb13-4198ea5b2ddb')\"\n",
              "              title=\"Convert this dataframe to an interactive table.\"\n",
              "              style=\"display:none;\">\n",
              "        \n",
              "  <svg xmlns=\"http://www.w3.org/2000/svg\" height=\"24px\"viewBox=\"0 0 24 24\"\n",
              "       width=\"24px\">\n",
              "    <path d=\"M0 0h24v24H0V0z\" fill=\"none\"/>\n",
              "    <path d=\"M18.56 5.44l.94 2.06.94-2.06 2.06-.94-2.06-.94-.94-2.06-.94 2.06-2.06.94zm-11 1L8.5 8.5l.94-2.06 2.06-.94-2.06-.94L8.5 2.5l-.94 2.06-2.06.94zm10 10l.94 2.06.94-2.06 2.06-.94-2.06-.94-.94-2.06-.94 2.06-2.06.94z\"/><path d=\"M17.41 7.96l-1.37-1.37c-.4-.4-.92-.59-1.43-.59-.52 0-1.04.2-1.43.59L10.3 9.45l-7.72 7.72c-.78.78-.78 2.05 0 2.83L4 21.41c.39.39.9.59 1.41.59.51 0 1.02-.2 1.41-.59l7.78-7.78 2.81-2.81c.8-.78.8-2.07 0-2.86zM5.41 20L4 18.59l7.72-7.72 1.47 1.35L5.41 20z\"/>\n",
              "  </svg>\n",
              "      </button>\n",
              "      \n",
              "  <style>\n",
              "    .colab-df-container {\n",
              "      display:flex;\n",
              "      flex-wrap:wrap;\n",
              "      gap: 12px;\n",
              "    }\n",
              "\n",
              "    .colab-df-convert {\n",
              "      background-color: #E8F0FE;\n",
              "      border: none;\n",
              "      border-radius: 50%;\n",
              "      cursor: pointer;\n",
              "      display: none;\n",
              "      fill: #1967D2;\n",
              "      height: 32px;\n",
              "      padding: 0 0 0 0;\n",
              "      width: 32px;\n",
              "    }\n",
              "\n",
              "    .colab-df-convert:hover {\n",
              "      background-color: #E2EBFA;\n",
              "      box-shadow: 0px 1px 2px rgba(60, 64, 67, 0.3), 0px 1px 3px 1px rgba(60, 64, 67, 0.15);\n",
              "      fill: #174EA6;\n",
              "    }\n",
              "\n",
              "    [theme=dark] .colab-df-convert {\n",
              "      background-color: #3B4455;\n",
              "      fill: #D2E3FC;\n",
              "    }\n",
              "\n",
              "    [theme=dark] .colab-df-convert:hover {\n",
              "      background-color: #434B5C;\n",
              "      box-shadow: 0px 1px 3px 1px rgba(0, 0, 0, 0.15);\n",
              "      filter: drop-shadow(0px 1px 2px rgba(0, 0, 0, 0.3));\n",
              "      fill: #FFFFFF;\n",
              "    }\n",
              "  </style>\n",
              "\n",
              "      <script>\n",
              "        const buttonEl =\n",
              "          document.querySelector('#df-04364a57-1aca-462d-bb13-4198ea5b2ddb button.colab-df-convert');\n",
              "        buttonEl.style.display =\n",
              "          google.colab.kernel.accessAllowed ? 'block' : 'none';\n",
              "\n",
              "        async function convertToInteractive(key) {\n",
              "          const element = document.querySelector('#df-04364a57-1aca-462d-bb13-4198ea5b2ddb');\n",
              "          const dataTable =\n",
              "            await google.colab.kernel.invokeFunction('convertToInteractive',\n",
              "                                                     [key], {});\n",
              "          if (!dataTable) return;\n",
              "\n",
              "          const docLinkHtml = 'Like what you see? Visit the ' +\n",
              "            '<a target=\"_blank\" href=https://colab.research.google.com/notebooks/data_table.ipynb>data table notebook</a>'\n",
              "            + ' to learn more about interactive tables.';\n",
              "          element.innerHTML = '';\n",
              "          dataTable['output_type'] = 'display_data';\n",
              "          await google.colab.output.renderOutput(dataTable, element);\n",
              "          const docLink = document.createElement('div');\n",
              "          docLink.innerHTML = docLinkHtml;\n",
              "          element.appendChild(docLink);\n",
              "        }\n",
              "      </script>\n",
              "    </div>\n",
              "  </div>\n",
              "  "
            ]
          },
          "metadata": {},
          "execution_count": 109
        }
      ]
    },
    {
      "cell_type": "code",
      "source": [
        "df_copy.info()"
      ],
      "metadata": {
        "colab": {
          "base_uri": "https://localhost:8080/"
        },
        "id": "AJkd1FcUA2YB",
        "outputId": "a4ec6dac-139a-4e68-9b67-2c0c5ae78b1f"
      },
      "execution_count": 110,
      "outputs": [
        {
          "output_type": "stream",
          "name": "stdout",
          "text": [
            "<class 'pandas.core.frame.DataFrame'>\n",
            "RangeIndex: 240 entries, 0 to 239\n",
            "Data columns (total 7 columns):\n",
            " #   Column          Non-Null Count  Dtype  \n",
            "---  ------          --------------  -----  \n",
            " 0   Temperature     240 non-null    int64  \n",
            " 1   L               240 non-null    float64\n",
            " 2   R               240 non-null    float64\n",
            " 3   A_M             240 non-null    float64\n",
            " 4   Color           240 non-null    object \n",
            " 5   Spectral_Class  240 non-null    object \n",
            " 6   Type            240 non-null    int64  \n",
            "dtypes: float64(3), int64(2), object(2)\n",
            "memory usage: 13.2+ KB\n"
          ]
        }
      ]
    },
    {
      "cell_type": "markdown",
      "source": [
        "# 2. Verinizin içindeki eksik ve kategorik değişkenler ile ilgilenip modele besleyeceğimiz hale getirmek \n"
      ],
      "metadata": {
        "id": "5976h7Pq1n-O"
      }
    },
    {
      "cell_type": "code",
      "source": [
        "df_copy.isnull().sum() #hiçbirinde boş yok fakat boş olsaydı"
      ],
      "metadata": {
        "colab": {
          "base_uri": "https://localhost:8080/"
        },
        "id": "zk26h2781ICj",
        "outputId": "41724199-aa6d-4a72-adfd-1620d403a9fe"
      },
      "execution_count": 111,
      "outputs": [
        {
          "output_type": "execute_result",
          "data": {
            "text/plain": [
              "Temperature       0\n",
              "L                 0\n",
              "R                 0\n",
              "A_M               0\n",
              "Color             0\n",
              "Spectral_Class    0\n",
              "Type              0\n",
              "dtype: int64"
            ]
          },
          "metadata": {},
          "execution_count": 111
        }
      ]
    },
    {
      "cell_type": "code",
      "source": [
        "df_copy['Color'].unique()"
      ],
      "metadata": {
        "colab": {
          "base_uri": "https://localhost:8080/"
        },
        "id": "T18otdc91OOB",
        "outputId": "731c86ed-bb0f-4306-b9c0-5ee0269399d4"
      },
      "execution_count": 112,
      "outputs": [
        {
          "output_type": "execute_result",
          "data": {
            "text/plain": [
              "array(['Red', 'Blue White', 'White', 'Yellowish White', 'Blue white',\n",
              "       'Pale yellow orange', 'Blue', 'Blue-white', 'Whitish',\n",
              "       'yellow-white', 'Orange', 'White-Yellow', 'white', 'yellowish',\n",
              "       'Yellowish', 'Orange-Red', 'Blue-White'], dtype=object)"
            ]
          },
          "metadata": {},
          "execution_count": 112
        }
      ]
    },
    {
      "cell_type": "code",
      "source": [
        "df_copy['Spectral_Class'].unique()"
      ],
      "metadata": {
        "colab": {
          "base_uri": "https://localhost:8080/"
        },
        "id": "yBHSF4xr-dKi",
        "outputId": "c1e63c3f-4df4-4e8e-f4ac-5e74e8b00664"
      },
      "execution_count": 113,
      "outputs": [
        {
          "output_type": "execute_result",
          "data": {
            "text/plain": [
              "array(['M', 'B', 'A', 'F', 'O', 'K', 'G'], dtype=object)"
            ]
          },
          "metadata": {},
          "execution_count": 113
        }
      ]
    },
    {
      "cell_type": "code",
      "source": [
        "df_copy['Type'].unique()"
      ],
      "metadata": {
        "colab": {
          "base_uri": "https://localhost:8080/"
        },
        "id": "DxZ1EVgN-hdD",
        "outputId": "4eecdd09-8774-42bc-90cb-da4c5a948c20"
      },
      "execution_count": 114,
      "outputs": [
        {
          "output_type": "execute_result",
          "data": {
            "text/plain": [
              "array([0, 1, 2, 3, 4, 5])"
            ]
          },
          "metadata": {},
          "execution_count": 114
        }
      ]
    },
    {
      "cell_type": "code",
      "source": [
        "print(df.Color.value_counts())\n",
        "print(f\"{df.Color.value_counts().shape[0]} Çeşit Yıldız Rengi Vardır\")"
      ],
      "metadata": {
        "colab": {
          "base_uri": "https://localhost:8080/"
        },
        "id": "te7NSO2cBMwK",
        "outputId": "6e48bb1c-fb6c-4c4a-ba97-43156ed1f147"
      },
      "execution_count": 115,
      "outputs": [
        {
          "output_type": "stream",
          "name": "stdout",
          "text": [
            "Red                   112\n",
            "Blue                   56\n",
            "Blue-white             26\n",
            "Blue White             10\n",
            "yellow-white            8\n",
            "White                   7\n",
            "Blue white              4\n",
            "white                   3\n",
            "Yellowish White         3\n",
            "yellowish               2\n",
            "Whitish                 2\n",
            "Orange                  2\n",
            "White-Yellow            1\n",
            "Pale yellow orange      1\n",
            "Yellowish               1\n",
            "Orange-Red              1\n",
            "Blue-White              1\n",
            "Name: Color, dtype: int64\n",
            "17 Çeşit Yıldız Rengi Vardır\n"
          ]
        }
      ]
    },
    {
      "cell_type": "code",
      "source": [
        "print(df.Spectral_Class.value_counts())\n",
        "print(f\"{df.Spectral_Class.value_counts().shape[0]} Çeşit Yıldız Türü Vardır\")"
      ],
      "metadata": {
        "colab": {
          "base_uri": "https://localhost:8080/"
        },
        "id": "cHcuH-9KBbfG",
        "outputId": "5be5f291-312d-4825-97b0-6caa9989c8a9"
      },
      "execution_count": 116,
      "outputs": [
        {
          "output_type": "stream",
          "name": "stdout",
          "text": [
            "M    111\n",
            "B     46\n",
            "O     40\n",
            "A     19\n",
            "F     17\n",
            "K      6\n",
            "G      1\n",
            "Name: Spectral_Class, dtype: int64\n",
            "7 Çeşit Yıldız Türü Vardır\n"
          ]
        }
      ]
    },
    {
      "cell_type": "code",
      "source": [
        "def train_cats(df):\n",
        "  for n,c in df.items():\n",
        "    if is_string_dtype(c):\n",
        "      df[n] = c.astype(\"category\").cat.as_ordered()"
      ],
      "metadata": {
        "id": "fXu3jee2CEHk"
      },
      "execution_count": 117,
      "outputs": []
    },
    {
      "cell_type": "code",
      "source": [
        "train_cats(df_copy)"
      ],
      "metadata": {
        "id": "AVWgPFyqCLhc"
      },
      "execution_count": 118,
      "outputs": []
    },
    {
      "cell_type": "code",
      "source": [
        "def numericalize(df, col, name):\n",
        "  if not is_numeric_dtype(col):\n",
        "    df[name] = col.cat.codes + 1"
      ],
      "metadata": {
        "id": "yltUzwn6CVN1"
      },
      "execution_count": 119,
      "outputs": []
    },
    {
      "cell_type": "code",
      "source": [
        "numericalize(df_copy, df_copy['Spectral_Class'], 'Spectral_Class')\n",
        "numericalize(df_copy, df_copy['Color'], 'Color')"
      ],
      "metadata": {
        "id": "TXdgA6TfCca6"
      },
      "execution_count": 120,
      "outputs": []
    },
    {
      "cell_type": "code",
      "source": [
        "df_copy.info()"
      ],
      "metadata": {
        "colab": {
          "base_uri": "https://localhost:8080/"
        },
        "id": "uln07tuJCn2a",
        "outputId": "01f23610-4a64-492f-ee3e-0792c3145d80"
      },
      "execution_count": 121,
      "outputs": [
        {
          "output_type": "stream",
          "name": "stdout",
          "text": [
            "<class 'pandas.core.frame.DataFrame'>\n",
            "RangeIndex: 240 entries, 0 to 239\n",
            "Data columns (total 7 columns):\n",
            " #   Column          Non-Null Count  Dtype  \n",
            "---  ------          --------------  -----  \n",
            " 0   Temperature     240 non-null    int64  \n",
            " 1   L               240 non-null    float64\n",
            " 2   R               240 non-null    float64\n",
            " 3   A_M             240 non-null    float64\n",
            " 4   Color           240 non-null    int8   \n",
            " 5   Spectral_Class  240 non-null    int8   \n",
            " 6   Type            240 non-null    int64  \n",
            "dtypes: float64(3), int64(2), int8(2)\n",
            "memory usage: 10.0 KB\n"
          ]
        }
      ]
    },
    {
      "cell_type": "markdown",
      "source": [
        "# 3.İlgilendiğiniz probleme göre error metriğine karar vermek"
      ],
      "metadata": {
        "id": "70hIi1p82Yzt"
      }
    },
    {
      "cell_type": "code",
      "source": [
        "#incelediğimiz çıktı error'un miktarı olduğundan dolayı rmse kullancağız."
      ],
      "metadata": {
        "id": "mjvXJD3yEuKu"
      },
      "execution_count": 122,
      "outputs": []
    },
    {
      "cell_type": "code",
      "source": [
        "def rmse(y_hat, y):\n",
        "  return math.sqrt(((y_hat-y)**2).mean())"
      ],
      "metadata": {
        "id": "4jJEgSGDFKgg"
      },
      "execution_count": 123,
      "outputs": []
    },
    {
      "cell_type": "markdown",
      "source": [
        "# 4. Verinizi train-validation-test diye bölmek"
      ],
      "metadata": {
        "id": "3NawaEhjEm4D"
      }
    },
    {
      "cell_type": "code",
      "source": [
        "def split_train_val(df, n):\n",
        "  return df[:n].copy(), df[n:].copy()"
      ],
      "metadata": {
        "id": "oX6_rU7v2Zu3"
      },
      "execution_count": 124,
      "outputs": []
    },
    {
      "cell_type": "code",
      "source": [
        "n_valid = 50\n",
        "n_train = len(df_copy) - n_valid\n",
        "\n",
        "raw_train, raw_valid = split_train_val(df_copy, n_train)"
      ],
      "metadata": {
        "id": "YVZJevVlDvZM"
      },
      "execution_count": 125,
      "outputs": []
    },
    {
      "cell_type": "code",
      "source": [
        "X_train, y_train = raw_train.drop('Type', axis = 1), raw_train['Type']\n",
        "X_valid, y_valid = raw_valid.drop('Type', axis = 1), raw_valid['Type']"
      ],
      "metadata": {
        "id": "JZsNEH22Dv6H"
      },
      "execution_count": 126,
      "outputs": []
    },
    {
      "cell_type": "code",
      "source": [
        "print(X_train.shape, y_train.shape)\n",
        "print(X_valid.shape, y_valid.shape)"
      ],
      "metadata": {
        "colab": {
          "base_uri": "https://localhost:8080/"
        },
        "id": "f4omGnI5EJAo",
        "outputId": "e1dfbbe8-8de0-4936-efa2-013e7fb2a3a9"
      },
      "execution_count": 127,
      "outputs": [
        {
          "output_type": "stream",
          "name": "stdout",
          "text": [
            "(190, 6) (190,)\n",
            "(50, 6) (50,)\n"
          ]
        }
      ]
    },
    {
      "cell_type": "markdown",
      "source": [
        "# 5. Olabildiğince fazla model denemek ve metriğimizde en iyi yapanı seçmek\n"
      ],
      "metadata": {
        "id": "TMDlU98lF3LF"
      }
    },
    {
      "cell_type": "code",
      "source": [
        "model = RandomForestRegressor(n_estimators=10, n_jobs=-1)"
      ],
      "metadata": {
        "id": "Ycgfpo8fEQxl"
      },
      "execution_count": 128,
      "outputs": []
    },
    {
      "cell_type": "code",
      "source": [
        "model.fit(X_train, y_train)"
      ],
      "metadata": {
        "colab": {
          "base_uri": "https://localhost:8080/"
        },
        "id": "vfKQ7V-nIU93",
        "outputId": "2c97aceb-cd3c-4437-fd55-80469102da3b"
      },
      "execution_count": 129,
      "outputs": [
        {
          "output_type": "execute_result",
          "data": {
            "text/plain": [
              "RandomForestRegressor(n_estimators=10, n_jobs=-1)"
            ]
          },
          "metadata": {},
          "execution_count": 129
        }
      ]
    },
    {
      "cell_type": "code",
      "source": [
        "print('Train')\n",
        "print('---------------------')\n",
        "print(f'f-score:{model.score(X_train, y_train).round(4)}  RMSE:{rmse(model.predict(X_train), y_train)}')\n",
        "print('---------------------')\n",
        "print('Valid')\n",
        "print('---------------------')\n",
        "print(f'f-score:{model.score(X_valid, y_valid).round(4)}  RMSE:{rmse(model.predict(X_valid), y_valid)}')"
      ],
      "metadata": {
        "colab": {
          "base_uri": "https://localhost:8080/"
        },
        "id": "pvjiLEOuIagh",
        "outputId": "e5705270-f3f7-4386-820b-6357ab7cd101"
      },
      "execution_count": 137,
      "outputs": [
        {
          "output_type": "stream",
          "name": "stdout",
          "text": [
            "Train\n",
            "---------------------\n",
            "f-score:0.9988  RMSE:0.061558701125109236\n",
            "---------------------\n",
            "Valid\n",
            "---------------------\n",
            "f-score:0.9996  RMSE:0.028284271247461926\n"
          ]
        }
      ]
    },
    {
      "cell_type": "code",
      "source": [
        ""
      ],
      "metadata": {
        "id": "CcDt4qLSInMw"
      },
      "execution_count": null,
      "outputs": []
    }
  ]
}